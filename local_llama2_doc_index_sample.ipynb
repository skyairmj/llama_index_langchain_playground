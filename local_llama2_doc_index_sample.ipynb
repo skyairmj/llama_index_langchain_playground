{
 "cells": [
  {
   "cell_type": "code",
   "execution_count": 1,
   "metadata": {},
   "outputs": [
    {
     "data": {
      "text/plain": [
       "[Document(page_content='通联收银宝商户账户接入报文规范\\n\\n商户账户接口V1.0\\n\\n\\n\\n\\n\\n\\n\\n\\n\\n\\n\\n版本\\n\\n日期\\n\\n作者\\n\\n备注\\n\\nV1.0\\n\\n2018-08-01\\n\\n聂宗波\\n\\n创建\\n\\n\\n\\n2018-08-31\\n\\n李德坚\\n\\n修改转账单号长度为32\\n\\n需改所有收银宝交易单号trxid为18位\\n\\n增加fintime字段响应\\n\\n增加1001响应码\\n\\n\\n\\n\\n目录\\n\\n\\t1接口介绍\\t3\\n\\n\\t1.1功能介绍\\t3\\n\\n\\t1.2接入方式\\t3\\n\\n\\t1.3接入地址\\t3\\n\\n\\t1.4 Sign签名机制介绍\\t3\\n\\n\\t2接口定义\\t4\\n\\n\\t2.1商户余额转账\\t4\\n\\n\\t2.2账户接口查询接口\\t5\\n\\n\\t2.3商户账户余额查询\\t6\\n\\n\\t3附录\\t7\\n\\n\\t3．1交易返回码说明\\t7\\n\\n\\n\\n\\n\\n\\n\\n\\n1接口介绍\\n\\n1.1功能介绍\\n\\n\\t商户通过接口对账户的协议内操作\\n\\n1.2接入方式\\n\\n\\t商户可通过收银宝商户服务平台申请开通，并自行配置接入KEY，接入APPID(平台分配给商户的接入应用ID)。\\n\\n\\t接口通过HTTPS方式提供，交易参数通过POST方式提交上来，返回结果均为JSON格式的数据报文。\\n\\n1.3接入地址\\n\\n\\t接入测试参数：\\n\\n\\t\\t商户号：990440153996000\\n\\nAPPID：00000000\\n\\nKEY：43df939f1e7f5c6909b3f4b63f893994\\n\\n\\n\\n1.4 Sign签名机制介绍\\n\\n\\t这里将定义生成sign 字符串的方法。\\n\\n签名字符串为除了sign之外的其他字段，加上分配的key的键值对.\\n\\n所有参与签名的字段，按字段名的ASCLL码从小到大排序后，使用URL的键值对的格式(即key1=value1&key2=value2)拼接成字符串string.\\n\\nsign=md5(string.getbyte(\"utf-8\")).toUpperCase()\\n\\n如：\\n\\nappid=00000000,cusid =990440153996000,paytype =0,trxamt=1,reqsn =1450432107647,randomstr =1450432107647,body=商品名称,remark =备注信息\\n\\n则\\n\\nstring=\"appid=00000000&body=商品名称&cusid=990440153996000&key=43df939f1e7f5c6909b3f4b63f893994&paytype=0&randomstr=1450432107647&remark=备注信息&reqsn=1450432107647&trxamt=1\";\\n\\n\\n\\nsign=md5(string.getByte(\"utf-8\") .toUpperCase()=”1918CC7DBBD120B1BB130C9400186F79”;\\n\\n\\n\\n2接口定义\\n\\n2.1商户余额转账\\n\\n接口地址：https://vsp.allinpay.com/apiweb/cusacct/transferbal\\n\\n使用场景：\\n\\n\\t商户通过接口将自己账户余额转账给其他商户余额\\n\\n请求参数：\\n\\n参数\\n\\n参数名称\\n\\n取值\\n\\n可空\\n\\n最大长度\\n\\n备注\\n\\ncusid\\n\\n商户号\\n\\n平台分配的商户号\\n\\n否\\n\\n15\\n\\n\\n\\nappid\\n\\n应用ID\\n\\n平台分配的APPID\\n\\n否\\n\\n8\\n\\n\\n\\nversion\\n\\n版本号\\n\\n接口版本号\\n\\n可\\n\\n2\\n\\n默认填11\\n\\nrandomstr\\n\\n随机字符串\\n\\n商户自行生成的随机字符串\\n\\n否\\n\\n32\\n\\n\\n\\npayercusid\\n\\n付款商户号\\n\\n暂只支持当前商户号,即必须与cusid相等\\n\\n否\\n\\n15\\n\\n\\n\\npayeecusid\\n\\n收款商户号\\n\\n\\n\\n否\\n\\n15\\n\\n\\n\\ntrxamt\\n\\n转账金额\\n\\n单位:分\\n\\n否\\n\\n15\\n\\n\\n\\nreqsn\\n\\n商户转账单号\\n\\n商户自定义单号\\n\\n否\\n\\n32\\n\\n\\n\\nremark\\n\\n备注信息\\n\\n\\n\\n否\\n\\n300\\n\\n\\n\\nsign\\n\\n签名\\n\\n详见1.4\\n\\n否\\n\\n32\\n\\n\\n\\n响应参数：\\n\\n字段ID\\n\\n字段名称\\n\\n取值\\n\\n可空\\n\\n最大长度\\n\\n备注\\n\\nretcode\\n\\n返回码\\n\\nSUCCESS/FAIL\\n\\n\\n\\n否\\n\\n8\\n\\nretcode=SUCCESS情况下，trxstatus=0000标识交易成功，其他响应码按照返回码处理；retcode=FAIL表示接口拒绝交易，如验签失败/数据格式错误/数据字段缺失。\\n\\nretmsg\\n\\n返回码说明\\n\\n\\n\\n是\\n\\n100\\n\\n\\n\\n以下信息只有当retcode为SUCCESS时有返回\\n\\ncusid\\n\\n商户号\\n\\n平台分配的商户号\\n\\n否\\n\\n15\\n\\n\\n\\nappid\\n\\n应用ID\\n\\n平台分配的APPID\\n\\n否\\n\\n8\\n\\n\\n\\ntrxid\\n\\n通联单号\\n\\n\\n\\n否\\n\\n18\\n\\n\\n\\nreqsn\\n\\n商户转账单号\\n\\n商户自定义单号\\n\\n否\\n\\n32\\n\\n\\n\\nrandomstr\\n\\n随机字符串\\n\\n随机生成的字符串\\n\\n是\\n\\n32\\n\\n\\n\\nfintime\\n\\n交易完成时间\\n\\nyyyyMMddHHmmss\\n\\n是\\n\\n14\\n\\n\\n\\n\\n\\n\\n\\n\\n\\n\\n\\n\\n\\n\\n\\ntrxstatus\\n\\n交易状态\\n\\n交易的状态\\n\\n否\\n\\n4\\n\\n见附录3.1\\n\\nerrmsg\\n\\n错误原因\\n\\n失败的原因说明\\n\\n是\\n\\n100\\n\\n\\n\\nsign\\n\\n签名\\n\\n\\n\\n否\\n\\n32\\n\\n详见1.4\\n\\n\\n\\n2.2账户接口查询接口\\n\\n接口地址：https://vsp.allinpay.com/apiweb/cusacct/querytrx\\n\\n使用场景：\\n\\n\\t账单支付交易查询\\n\\n请求参数：\\n\\n参数\\n\\n参数名称\\n\\n取值\\n\\n可空\\n\\n最大长度\\n\\n备注\\n\\ncusid\\n\\n商户号\\n\\n平台分配的商户号\\n\\n否\\n\\n15\\n\\n\\n\\nappid\\n\\n应用ID\\n\\n平台分配的APPID\\n\\n否\\n\\n8\\n\\n\\n\\nversion\\n\\n版本号\\n\\n接口版本号\\n\\n可\\n\\n2\\n\\n默认填11\\n\\nrandomstr\\n\\n随机字符串\\n\\n商户自行生成的随机字符串\\n\\n否\\n\\n32\\n\\n\\n\\ntrxtype\\n\\n查询类型\\n\\n01-账户余额转账\\n\\n否\\n\\n2\\n\\n\\n\\nreqsn\\n\\n商户转账单号\\n\\n商户自定义单号\\n\\n是\\n\\n32\\n\\n优先trxid查询,reqsn和trxid不能同时为空\\n\\ntrxid\\n\\n通联单号\\n\\n\\n\\n是\\n\\n18\\n\\n\\n\\nsign\\n\\n签名\\n\\n详见1.4\\n\\n否\\n\\n32\\n\\n\\n\\n响应参数：\\n\\n字段ID\\n\\n字段名称\\n\\n取值\\n\\n可空\\n\\n最大长度\\n\\n备注\\n\\nretcode\\n\\n返回码\\n\\nSUCCESS/FAIL\\n\\n\\n\\n否\\n\\n8\\n\\nretcode=SUCCESS情况下，表示查询成功，交易状态按照trxstatus判断；retcode=FAIL表示接口拒绝交易，如验签失败/数据格式错误/数据字段缺失。\\n\\nretmsg\\n\\n返回码说明\\n\\n\\n\\n是\\n\\n100\\n\\n\\n\\n以下信息只有当retcode为SUCCESS时有返回\\n\\ncusid\\n\\n商户号\\n\\n平台分配的商户号\\n\\n否\\n\\n15\\n\\n\\n\\nappid\\n\\n应用ID\\n\\n平台分配的APPID\\n\\n否\\n\\n8\\n\\n\\n\\ntrxid\\n\\n通联单号\\n\\n\\n\\n是\\n\\n18\\n\\n\\n\\nreqsn\\n\\n商户转账单号\\n\\n商户自定义单号\\n\\n否\\n\\n32\\n\\n\\n\\npayeecusid\\n\\n收款商户号\\n\\n\\n\\n否\\n\\n15\\n\\n\\n\\npayercusid\\n\\n付款商户号\\n\\n\\n\\n否\\n\\n15\\n\\n\\n\\ntrxamt\\n\\n交易金额\\n\\n单位:分\\n\\n否\\n\\n15\\n\\n\\n\\nfee\\n\\n手续费\\n\\n单位:分\\n\\n否\\n\\n15\\n\\n\\n\\nremark\\n\\n备注信息\\n\\n\\n\\n否\\n\\n300\\n\\n\\n\\ntrxstatus\\n\\n账单状态\\n\\n0000-交易成功\\n\\n2008-交易处理中\\n\\n其余交易失败\\n\\n否\\n\\n4\\n\\n\\n\\nfintime\\n\\n交易完成时间\\n\\nyyyyMMddHHmmss\\n\\n是\\n\\n14\\n\\n\\n\\nerrmsg\\n\\n错误信息\\n\\n\\n\\n是\\n\\n64\\n\\n\\n\\nrandomstr\\n\\n随机字符串\\n\\n随机生成的字符串\\n\\n是\\n\\n32\\n\\n\\n\\nsign\\n\\n签名\\n\\n\\n\\n否\\n\\n32\\n\\n详见1.5\\n\\n\\n\\n2.3商户账户余额查询\\n\\n接口地址：https://vsp.allinpay.com/apiweb/cusacct/querybalance\\n\\n使用场景：\\n\\n\\t查询商户账户余额\\n\\n请求参数：\\n\\n参数\\n\\n参数名称\\n\\n取值\\n\\n可空\\n\\n最大长度\\n\\n备注\\n\\ncusid\\n\\n商户号\\n\\n平台分配的商户号\\n\\n否\\n\\n15\\n\\n\\n\\nappid\\n\\n应用ID\\n\\n平台分配的APPID\\n\\n否\\n\\n8\\n\\n\\n\\nversion\\n\\n版本号\\n\\n接口版本号\\n\\n可\\n\\n2\\n\\n默认填11\\n\\nrandomstr\\n\\n随机字符串\\n\\n商户自行生成的随机字符串\\n\\n否\\n\\n32\\n\\n\\n\\naccttype\\n\\n查询类型\\n\\n余额户查询 \\n\\n否\\n\\n2\\n\\n暂只支持01\\n\\nsign\\n\\n签名\\n\\n详见1.4\\n\\n否\\n\\n32\\n\\n\\n\\n响应参数：\\n\\n字段ID\\n\\n字段名称\\n\\n取值\\n\\n可空\\n\\n最大长度\\n\\n备注\\n\\nretcode\\n\\n返回码\\n\\nSUCCESS/FAIL\\n\\n\\n\\n否\\n\\n8\\n\\nretcode=SUCCESS情况下，表示查询成功，交易状态按照trxstatus判断；retcode=FAIL表示接口拒绝交易，如验签失败/数据格式错误/数据字段缺失。\\n\\nretmsg\\n\\n返回码说明\\n\\n\\n\\n是\\n\\n100\\n\\n\\n\\n以下信息只有当retcode为SUCCESS时有返回\\n\\ncusid\\n\\n商户号\\n\\n平台分配的商户号\\n\\n否\\n\\n15\\n\\n\\n\\nappid\\n\\n应用ID\\n\\n平台分配的APPID\\n\\n否\\n\\n8\\n\\n\\n\\namount\\n\\n账户金额\\n\\n单位:分\\n\\n否\\n\\n15\\n\\n\\n\\nrandomstr\\n\\n随机字符串\\n\\n随机生成的字符串\\n\\n是\\n\\n32\\n\\n\\n\\nsign\\n\\n签名\\n\\n\\n\\n否\\n\\n32\\n\\n详见1.5\\n\\n\\n\\n\\n\\n3附录\\n\\n3．1交易返回码说明\\n\\n\\t0000：交易成功\\n\\n1001：交易不存在\\n\\n2008或者2000 : 交易处理中,请查询交易\\n\\n3开头的错误码代表交易失败', metadata={'source': 'data/通联收银宝商户账户接入报文规范-商户账户接口.docx'})]"
      ]
     },
     "execution_count": 1,
     "metadata": {},
     "output_type": "execute_result"
    }
   ],
   "source": [
    "from langchain_community.document_loaders import Docx2txtLoader\n",
    "\n",
    "loader = Docx2txtLoader(\"data/通联收银宝商户账户接入报文规范-商户账户接口.docx\")\n",
    "\n",
    "data = loader.load()\n",
    "\n",
    "data"
   ]
  },
  {
   "cell_type": "code",
   "execution_count": 2,
   "metadata": {},
   "outputs": [
    {
     "name": "stdout",
     "output_type": "stream",
     "text": [
      "bert_load_from_file: gguf version     = 2\n",
      "bert_load_from_file: gguf alignment   = 32\n",
      "bert_load_from_file: gguf data offset = 695552\n",
      "bert_load_from_file: model name           = BERT\n",
      "bert_load_from_file: model architecture   = bert\n",
      "bert_load_from_file: model file type      = 1\n",
      "bert_load_from_file: bert tokenizer vocab = 30522\n"
     ]
    }
   ],
   "source": [
    "from langchain.text_splitter import RecursiveCharacterTextSplitter\n",
    "text_splitter = RecursiveCharacterTextSplitter(chunk_size=500, chunk_overlap=0)\n",
    "all_splits = text_splitter.split_documents(data)\n",
    "\n",
    "from langchain.vectorstores import Chroma\n",
    "from langchain.embeddings import GPT4AllEmbeddings\n",
    "\n",
    "vectorstore = Chroma.from_documents(documents=all_splits, embedding=GPT4AllEmbeddings())"
   ]
  },
  {
   "cell_type": "code",
   "execution_count": 3,
   "metadata": {},
   "outputs": [],
   "source": [
    "from langchain import PromptTemplate\n",
    "\n",
    "# 提示\n",
    "template = \"\"\"使用以下上下文片段回答最后的问题。\n",
    "如果你不知道答案，只需说你不知道，不要试图编造一个答案。\n",
    "最多使用三个句子，并尽量简洁地回答。\n",
    "{context}\n",
    "问题：{question}\n",
    "有用的答案：\"\"\"\n",
    "QA_CHAIN_PROMPT = PromptTemplate(\n",
    "    input_variables=[\"context\", \"question\"],\n",
    "    template=template,\n",
    ")\n",
    "\n",
    "# LLM\n",
    "from langchain.llms import Ollama\n",
    "from langchain.callbacks.manager import CallbackManager\n",
    "from langchain.callbacks.streaming_stdout import StreamingStdOutCallbackHandler\n",
    "llm = Ollama(base_url=\"http://localhost:11434\",\n",
    "             model=\"llama2-chinese:7b-chat-q8_0\",\n",
    "             verbose=True,\n",
    "             callback_manager=CallbackManager([StreamingStdOutCallbackHandler()]))\n",
    "\n",
    "# QA链\n",
    "from langchain.chains import RetrievalQA\n",
    "qa_chain = RetrievalQA.from_chain_type(\n",
    "    llm,\n",
    "    retriever=vectorstore.as_retriever(),\n",
    "    chain_type_kwargs={\"prompt\": QA_CHAIN_PROMPT},\n",
    ")"
   ]
  },
  {
   "cell_type": "code",
   "execution_count": 5,
   "metadata": {},
   "outputs": [
    {
     "name": "stdout",
     "output_type": "stream",
     "text": [
      "\n",
      "V1.0 2018-08-01 聂宗波创建。\n",
      "\n",
      "V1.0 2018-08-31 李德坚修改转账单号长度为32，需改所有收银宝交易单号trxid为18位，增加fintime字段响应，增加1001响应码。\n",
      "\n",
      "李德坚修改。\n"
     ]
    }
   ],
   "source": [
    "question = \"请概括通联收银宝商户账户接入报文规范作者有哪几位？\"\n",
    "result = qa_chain({\"query\": question})"
   ]
  }
 ],
 "metadata": {
  "kernelspec": {
   "display_name": "venv",
   "language": "python",
   "name": "python3"
  },
  "language_info": {
   "codemirror_mode": {
    "name": "ipython",
    "version": 3
   },
   "file_extension": ".py",
   "mimetype": "text/x-python",
   "name": "python",
   "nbconvert_exporter": "python",
   "pygments_lexer": "ipython3",
   "version": "3.11.7"
  }
 },
 "nbformat": 4,
 "nbformat_minor": 2
}
